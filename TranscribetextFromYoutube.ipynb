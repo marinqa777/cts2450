{
  "nbformat": 4,
  "nbformat_minor": 0,
  "metadata": {
    "colab": {
      "provenance": [],
      "authorship_tag": "ABX9TyPzCKAkokwnoAMDNEj2SUgW",
      "include_colab_link": true
    },
    "kernelspec": {
      "name": "python3",
      "display_name": "Python 3"
    },
    "language_info": {
      "name": "python"
    }
  },
  "cells": [
    {
      "cell_type": "markdown",
      "metadata": {
        "id": "view-in-github",
        "colab_type": "text"
      },
      "source": [
        "<a href=\"https://colab.research.google.com/github/marinqa777/cts2450/blob/main/TranscribetextFromYoutube.ipynb\" target=\"_parent\"><img src=\"https://colab.research.google.com/assets/colab-badge.svg\" alt=\"Open In Colab\"/></a>"
      ]
    },
    {
      "cell_type": "code",
      "execution_count": null,
      "metadata": {
        "id": "OYnexZYZnYcO"
      },
      "outputs": [],
      "source": [
        "!pip install git+https://github.com/openai/whisper.git\n",
        "!pip install pytube\n",
        "# import the necessary packages\n",
        "import pytube as pt\n",
        "import whisper\n",
        "# download mp3 from youtube video (Indroductrion to Whisper: The speech recognition)\n",
        "# yt = pt.YouTube(\"https://www.youtube.com/watch?v=Bf6Z5bjlHcI\")\n",
        "yt = pt.YouTube(\"https://www.youtube.com/shorts/9mXdpjXj7GE\")\n",
        "stream = yt.streams.filter(only_audio=True)[0]\n",
        "stream.download(filename=\"audio.mp3\")\n",
        "# load the model\n",
        "model = whisper.load_model(\"medium\")\n",
        "# transcribe the audio file\n",
        "result = model.transcribe(\"audio.mp3\")\n",
        "# print the text extracted from the video\n",
        "print(result[\"text\"])\n",
        "\n"
      ]
    }
  ]
}